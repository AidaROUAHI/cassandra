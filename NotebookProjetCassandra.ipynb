{
 "cells": [
  {
   "cell_type": "markdown",
   "metadata": {
    "id": "MeL_uRijLtom"
   },
   "source": [
    "\n",
    "# API_OpenWeather"
   ]
  },
  {
   "cell_type": "code",
   "execution_count": 1,
   "metadata": {
    "id": "LXj1Rq_tLtos",
    "outputId": "741e183d-20ab-4ea6-fdf5-734cb8d7014e"
   },
   "outputs": [
    {
     "name": "stdout",
     "output_type": "stream",
     "text": [
      "Requirement already satisfied: termcolor in /home/fitec/anaconda3/lib/python3.9/site-packages (1.1.0)\r\n"
     ]
    }
   ],
   "source": [
    "#Image(url= \"weather.png\")\n",
    "!pip install termcolor"
   ]
  },
  {
   "cell_type": "code",
   "execution_count": 2,
   "metadata": {
    "id": "ZcQbFUXvLtoy"
   },
   "outputs": [],
   "source": [
    "#from IPython.display import Image\n",
    "from IPython.core.display import HTML\n",
    "import os\n",
    "import csv\n",
    "from termcolor import colored, cprint\n",
    "import datetime\n",
    "import json\n",
    "import urllib.request\n",
    "import pandas as pd\n",
    "#os.chdir(\"C:\\\\users\\\\msellami\\\\PythonTraining\\\\\")"
   ]
  },
  {
   "cell_type": "code",
   "execution_count": 3,
   "metadata": {
    "id": "F9Q7_1M8Lto0"
   },
   "outputs": [],
   "source": [
    "def url_builder(city_id,city_name,country):\n",
    "    user_api = '0e7a872c16502901b3548b5b13bf0250'  # Obtain yours form: http://openweathermap.org/\n",
    "    unit = 'metric'  # For Fahrenheit use imperial, for Celsius use metric, and the default is Kelvin.\n",
    "    if(city_name!=\"\"):\n",
    "        api = 'http://api.openweathermap.org/data/2.5/weather?q=' # \"http://api.openweathermap.org/data/2.5/weather?q=Tunis,fr\n",
    "        full_api_url = api + str(city_name) +','+ str(country)+ '&mode=json&units=' + unit + '&APPID=' + user_api\n",
    "    else:\n",
    "        api = 'http://api.openweathermap.org/data/2.5/weather?id='     # Search for your city ID here: http://bulk.openweathermap.org/sample/city.list.json.gz\n",
    "        full_api_url = api + str(city_id) + '&mode=json&units=' + unit + '&APPID=' + user_api\n",
    "   \n",
    "    return full_api_url"
   ]
  },
  {
   "cell_type": "code",
   "execution_count": 4,
   "metadata": {
    "id": "vrzK4RTqLto3"
   },
   "outputs": [],
   "source": [
    "def data_fetch(full_api_url):\n",
    "    url = urllib.request.urlopen(full_api_url)\n",
    "    output = url.read().decode('utf-8')\n",
    "    raw_api_dict = json.loads(output)\n",
    "    url.close()\n",
    "    return raw_api_dict\n"
   ]
  },
  {
   "cell_type": "code",
   "execution_count": 5,
   "metadata": {
    "id": "Obz8MzUYLto6"
   },
   "outputs": [],
   "source": [
    "def time_converter(time):\n",
    "    converted_time = datetime.datetime.fromtimestamp(int(time)).strftime('%I:%M %p')\n",
    "    return converted_time\n"
   ]
  },
  {
   "cell_type": "markdown",
   "metadata": {
    "id": "nseP-MxkLto6"
   },
   "source": [
    "### Extraction des champs à partir des fichiers JSON \n",
    "Mainetant, nous avons besoins de creer une fonction <b>data_organizer</b> qui prend une structure json complexe et créee une dictionnaire de données\n",
    "contenant les attributs suivants:\n",
    "<b>\n",
    "    \n",
    "*-city : La ville\n",
    "    \n",
    "*-country: le pays\n",
    "\n",
    "*-temp: Temperature actuelle\n",
    "\n",
    "*-temp_max: Temperature temp_max\n",
    "\n",
    "*-temp_min :Temperature Min \n",
    "\n",
    "*-humidity ; Humidité\n",
    "\n",
    "*-pressure ; Pression\n",
    "\n",
    "*-sky       : Etat de Ciel \n",
    "\n",
    "*-sunrise  : Lever du soleil  \n",
    " \n",
    " \n",
    "*-sunset : Coucher du soleil \n",
    "\n",
    "*-wind : Vistesse de Vent\n",
    "\n",
    "*-wind_deg\n",
    "\n",
    "*-dt : Date\n",
    "\n",
    "*-cloudiness : Nuageux\n",
    "\n",
    "</b>\n"
   ]
  },
  {
   "cell_type": "code",
   "execution_count": 6,
   "metadata": {
    "id": "n8TYyhBuLto6"
   },
   "outputs": [],
   "source": [
    "def data_organizer(raw_api_dict):\n",
    "    data = dict(\n",
    "        city=raw_api_dict.get('name'),\n",
    "        country=raw_api_dict.get('sys').get('country'),\n",
    "        temp=raw_api_dict.get('main').get('temp'),\n",
    "        temp_max=raw_api_dict.get('main').get('temp_max'),\n",
    "        temp_min=raw_api_dict.get('main').get('temp_min'),\n",
    "        humidity=raw_api_dict.get('main').get('humidity'),\n",
    "        pressure=raw_api_dict.get('main').get('pressure'),\n",
    "        sky=raw_api_dict['weather'][0]['main'],\n",
    "        sunrise=time_converter(raw_api_dict.get('sys').get('sunrise')),\n",
    "        sunset=time_converter(raw_api_dict.get('sys').get('sunset')),\n",
    "        wind=raw_api_dict.get('wind').get('speed'),\n",
    "        wind_deg=raw_api_dict.get('deg'),\n",
    "        dt=time_converter(raw_api_dict.get('dt')),\n",
    "        cloudiness=raw_api_dict.get('clouds').get('all')\n",
    "    )\n",
    "    #print (data)\n",
    "    return data"
   ]
  },
  {
   "cell_type": "raw",
   "metadata": {
    "id": "0hI55cBDLto9"
   },
   "source": [
    "# Recuperer des coordonnées des villes à partir de json avec pandas\n",
    "  Maintenant on a besoin d'une fonction qui permet recuperer les coordonnées des villesd'un fichier JSON \n",
    "    \n",
    "    # Ingestion des coordonnées des villesd'un fichier JSON avec pandas\n",
    "\n",
    "Cassandra joue un rôle important dans la réalisation des applications analytique big data. Dans cet projet on va simuler le Scénario dont laquelle Cassandra joue un rôle en amant pour le stockage de données arrivant d'un API OpenWeather. Puis on va exploiter ces données afin de créer des analyses sophistiques en utilisant Python Data Analysis.\n",
    " "
   ]
  },
  {
   "cell_type": "code",
   "execution_count": 10,
   "metadata": {},
   "outputs": [],
   "source": [
    "def WriteCSV(data):\n",
    "    with open('weatherOpenMap.csv', 'a') as f:  \n",
    "        w = csv.DictWriter(f, data.keys())\n",
    "        w.writerow(data)"
   ]
  },
  {
   "cell_type": "code",
   "execution_count": 46,
   "metadata": {
    "id": "3oIlmXhTLtpC"
   },
   "outputs": [
    {
     "data": {
      "text/html": [
       "<div>\n",
       "<style scoped>\n",
       "    .dataframe tbody tr th:only-of-type {\n",
       "        vertical-align: middle;\n",
       "    }\n",
       "\n",
       "    .dataframe tbody tr th {\n",
       "        vertical-align: top;\n",
       "    }\n",
       "\n",
       "    .dataframe thead th {\n",
       "        text-align: right;\n",
       "    }\n",
       "</style>\n",
       "<table border=\"1\" class=\"dataframe\">\n",
       "  <thead>\n",
       "    <tr style=\"text-align: right;\">\n",
       "      <th></th>\n",
       "      <th>id</th>\n",
       "      <th>name</th>\n",
       "      <th>country</th>\n",
       "      <th>coord</th>\n",
       "    </tr>\n",
       "  </thead>\n",
       "  <tbody>\n",
       "    <tr>\n",
       "      <th>0</th>\n",
       "      <td>3017680</td>\n",
       "      <td>Forville</td>\n",
       "      <td>FR</td>\n",
       "      <td>{'lon': 6.6239, 'lat': 44.913849}</td>\n",
       "    </tr>\n",
       "    <tr>\n",
       "      <th>1</th>\n",
       "      <td>3007202</td>\n",
       "      <td>La Portanière</td>\n",
       "      <td>FR</td>\n",
       "      <td>{'lon': 6.17341, 'lat': 43.248611}</td>\n",
       "    </tr>\n",
       "    <tr>\n",
       "      <th>2</th>\n",
       "      <td>6441676</td>\n",
       "      <td>Wittenheim</td>\n",
       "      <td>FR</td>\n",
       "      <td>{'lon': 7.33333, 'lat': 47.816669}</td>\n",
       "    </tr>\n",
       "    <tr>\n",
       "      <th>3</th>\n",
       "      <td>6438569</td>\n",
       "      <td>Wattrelos</td>\n",
       "      <td>FR</td>\n",
       "      <td>{'lon': 3.21667, 'lat': 50.700001}</td>\n",
       "    </tr>\n",
       "    <tr>\n",
       "      <th>4</th>\n",
       "      <td>6454050</td>\n",
       "      <td>Vitré</td>\n",
       "      <td>FR</td>\n",
       "      <td>{'lon': -1.2, 'lat': 48.133331}</td>\n",
       "    </tr>\n",
       "  </tbody>\n",
       "</table>\n",
       "</div>"
      ],
      "text/plain": [
       "        id           name country                               coord\n",
       "0  3017680       Forville      FR   {'lon': 6.6239, 'lat': 44.913849}\n",
       "1  3007202  La Portanière      FR  {'lon': 6.17341, 'lat': 43.248611}\n",
       "2  6441676     Wittenheim      FR  {'lon': 7.33333, 'lat': 47.816669}\n",
       "3  6438569      Wattrelos      FR  {'lon': 3.21667, 'lat': 50.700001}\n",
       "4  6454050          Vitré      FR     {'lon': -1.2, 'lat': 48.133331}"
      ]
     },
     "execution_count": 46,
     "metadata": {},
     "output_type": "execute_result"
    }
   ],
   "source": [
    "villes = pd.read_json(\"city.list.json\")\n",
    "villes_france = villes[villes['country'] == 'FR' ]\n",
    "villes_france = villes_france.reset_index() \n",
    "villes_france = villes_france[['id','name','country','coord']]\n",
    "villes_france.head()"
   ]
  },
  {
   "cell_type": "code",
   "execution_count": 47,
   "metadata": {},
   "outputs": [],
   "source": [
    "ids_france       = list(villes_france ['id'])\n",
    "countries_france = list(villes_france ['country'])"
   ]
  },
  {
   "cell_type": "code",
   "execution_count": 13,
   "metadata": {
    "id": "cgq4mkd8LtpC"
   },
   "outputs": [
    {
     "name": "stdout",
     "output_type": "stream",
     "text": [
      "\u001b[1m\u001b[31mGeneration de l url \u001b[0m\n",
      "\u001b[1m\u001b[31mInvocation du API afin de recuperer les données\u001b[0m\n",
      "\u001b[1m\u001b[31mGeneration de l url \u001b[0m\n",
      "\u001b[1m\u001b[31mInvocation du API afin de recuperer les données\u001b[0m\n",
      "\u001b[1m\u001b[31mGeneration de l url \u001b[0m\n",
      "\u001b[1m\u001b[31mInvocation du API afin de recuperer les données\u001b[0m\n",
      "\u001b[1m\u001b[31mGeneration de l url \u001b[0m\n",
      "\u001b[1m\u001b[31mInvocation du API afin de recuperer les données\u001b[0m\n",
      "\u001b[1m\u001b[31mGeneration de l url \u001b[0m\n",
      "\u001b[1m\u001b[31mInvocation du API afin de recuperer les données\u001b[0m\n",
      "\u001b[1m\u001b[31mGeneration de l url \u001b[0m\n",
      "\u001b[1m\u001b[31mInvocation du API afin de recuperer les données\u001b[0m\n",
      "\u001b[1m\u001b[31mGeneration de l url \u001b[0m\n",
      "\u001b[1m\u001b[31mInvocation du API afin de recuperer les données\u001b[0m\n",
      "\u001b[1m\u001b[31mGeneration de l url \u001b[0m\n",
      "\u001b[1m\u001b[31mInvocation du API afin de recuperer les données\u001b[0m\n",
      "\u001b[1m\u001b[31mGeneration de l url \u001b[0m\n",
      "\u001b[1m\u001b[31mInvocation du API afin de recuperer les données\u001b[0m\n",
      "\u001b[1m\u001b[31mGeneration de l url \u001b[0m\n",
      "\u001b[1m\u001b[31mInvocation du API afin de recuperer les données\u001b[0m\n",
      "\u001b[1m\u001b[31mGeneration de l url \u001b[0m\n",
      "\u001b[1m\u001b[31mInvocation du API afin de recuperer les données\u001b[0m\n",
      "\u001b[1m\u001b[31mGeneration de l url \u001b[0m\n",
      "\u001b[1m\u001b[31mInvocation du API afin de recuperer les données\u001b[0m\n",
      "\u001b[1m\u001b[31mGeneration de l url \u001b[0m\n",
      "\u001b[1m\u001b[31mInvocation du API afin de recuperer les données\u001b[0m\n",
      "\u001b[1m\u001b[31mGeneration de l url \u001b[0m\n",
      "\u001b[1m\u001b[31mInvocation du API afin de recuperer les données\u001b[0m\n",
      "\u001b[1m\u001b[31mGeneration de l url \u001b[0m\n",
      "\u001b[1m\u001b[31mInvocation du API afin de recuperer les données\u001b[0m\n",
      "\u001b[1m\u001b[31mGeneration de l url \u001b[0m\n",
      "\u001b[1m\u001b[31mInvocation du API afin de recuperer les données\u001b[0m\n",
      "\u001b[1m\u001b[31mGeneration de l url \u001b[0m\n",
      "\u001b[1m\u001b[31mInvocation du API afin de recuperer les données\u001b[0m\n",
      "\u001b[1m\u001b[31mGeneration de l url \u001b[0m\n",
      "\u001b[1m\u001b[31mInvocation du API afin de recuperer les données\u001b[0m\n",
      "\u001b[1m\u001b[31mGeneration de l url \u001b[0m\n",
      "\u001b[1m\u001b[31mInvocation du API afin de recuperer les données\u001b[0m\n",
      "\u001b[1m\u001b[31mGeneration de l url \u001b[0m\n",
      "\u001b[1m\u001b[31mInvocation du API afin de recuperer les données\u001b[0m\n",
      "\u001b[1m\u001b[31mGeneration de l url \u001b[0m\n",
      "\u001b[1m\u001b[31mInvocation du API afin de recuperer les données\u001b[0m\n",
      "\u001b[1m\u001b[31mGeneration de l url \u001b[0m\n",
      "\u001b[1m\u001b[31mInvocation du API afin de recuperer les données\u001b[0m\n",
      "\u001b[1m\u001b[31mGeneration de l url \u001b[0m\n",
      "\u001b[1m\u001b[31mInvocation du API afin de recuperer les données\u001b[0m\n",
      "\u001b[1m\u001b[31mGeneration de l url \u001b[0m\n",
      "\u001b[1m\u001b[31mInvocation du API afin de recuperer les données\u001b[0m\n",
      "\u001b[1m\u001b[31mGeneration de l url \u001b[0m\n",
      "\u001b[1m\u001b[31mInvocation du API afin de recuperer les données\u001b[0m\n",
      "\u001b[1m\u001b[31mGeneration de l url \u001b[0m\n",
      "\u001b[1m\u001b[31mInvocation du API afin de recuperer les données\u001b[0m\n",
      "\u001b[1m\u001b[31mGeneration de l url \u001b[0m\n",
      "\u001b[1m\u001b[31mInvocation du API afin de recuperer les données\u001b[0m\n",
      "\u001b[1m\u001b[31mGeneration de l url \u001b[0m\n",
      "\u001b[1m\u001b[31mInvocation du API afin de recuperer les données\u001b[0m\n",
      "\u001b[1m\u001b[31mGeneration de l url \u001b[0m\n",
      "\u001b[1m\u001b[31mInvocation du API afin de recuperer les données\u001b[0m\n",
      "\u001b[1m\u001b[31mGeneration de l url \u001b[0m\n",
      "\u001b[1m\u001b[31mInvocation du API afin de recuperer les données\u001b[0m\n",
      "\u001b[1m\u001b[31mGeneration de l url \u001b[0m\n",
      "\u001b[1m\u001b[31mInvocation du API afin de recuperer les données\u001b[0m\n",
      "\u001b[1m\u001b[31mGeneration de l url \u001b[0m\n",
      "\u001b[1m\u001b[31mInvocation du API afin de recuperer les données\u001b[0m\n",
      "\u001b[1m\u001b[31mGeneration de l url \u001b[0m\n",
      "\u001b[1m\u001b[31mInvocation du API afin de recuperer les données\u001b[0m\n",
      "\u001b[1m\u001b[31mGeneration de l url \u001b[0m\n",
      "\u001b[1m\u001b[31mInvocation du API afin de recuperer les données\u001b[0m\n",
      "\u001b[1m\u001b[31mGeneration de l url \u001b[0m\n",
      "\u001b[1m\u001b[31mInvocation du API afin de recuperer les données\u001b[0m\n",
      "\u001b[1m\u001b[31mGeneration de l url \u001b[0m\n",
      "\u001b[1m\u001b[31mInvocation du API afin de recuperer les données\u001b[0m\n",
      "\u001b[1m\u001b[31mGeneration de l url \u001b[0m\n",
      "\u001b[1m\u001b[31mInvocation du API afin de recuperer les données\u001b[0m\n",
      "\u001b[1m\u001b[31mGeneration de l url \u001b[0m\n",
      "\u001b[1m\u001b[31mInvocation du API afin de recuperer les données\u001b[0m\n",
      "\u001b[1m\u001b[31mGeneration de l url \u001b[0m\n",
      "\u001b[1m\u001b[31mInvocation du API afin de recuperer les données\u001b[0m\n",
      "\u001b[1m\u001b[31mGeneration de l url \u001b[0m\n",
      "\u001b[1m\u001b[31mInvocation du API afin de recuperer les données\u001b[0m\n",
      "\u001b[1m\u001b[31mGeneration de l url \u001b[0m\n",
      "\u001b[1m\u001b[31mInvocation du API afin de recuperer les données\u001b[0m\n",
      "\u001b[1m\u001b[31mGeneration de l url \u001b[0m\n",
      "\u001b[1m\u001b[31mInvocation du API afin de recuperer les données\u001b[0m\n",
      "\u001b[1m\u001b[31mGeneration de l url \u001b[0m\n",
      "\u001b[1m\u001b[31mInvocation du API afin de recuperer les données\u001b[0m\n",
      "\u001b[1m\u001b[31mGeneration de l url \u001b[0m\n",
      "\u001b[1m\u001b[31mInvocation du API afin de recuperer les données\u001b[0m\n",
      "\u001b[1m\u001b[31mGeneration de l url \u001b[0m\n",
      "\u001b[1m\u001b[31mInvocation du API afin de recuperer les données\u001b[0m\n",
      "\u001b[1m\u001b[31mGeneration de l url \u001b[0m\n",
      "\u001b[1m\u001b[31mInvocation du API afin de recuperer les données\u001b[0m\n",
      "\u001b[1m\u001b[31mGeneration de l url \u001b[0m\n",
      "\u001b[1m\u001b[31mInvocation du API afin de recuperer les données\u001b[0m\n",
      "\u001b[1m\u001b[31mGeneration de l url \u001b[0m\n",
      "\u001b[1m\u001b[31mInvocation du API afin de recuperer les données\u001b[0m\n",
      "\u001b[1m\u001b[31mGeneration de l url \u001b[0m\n",
      "\u001b[1m\u001b[31mInvocation du API afin de recuperer les données\u001b[0m\n",
      "\u001b[1m\u001b[31mGeneration de l url \u001b[0m\n",
      "\u001b[1m\u001b[31mInvocation du API afin de recuperer les données\u001b[0m\n"
     ]
    },
    {
     "ename": "KeyboardInterrupt",
     "evalue": "",
     "output_type": "error",
     "traceback": [
      "\u001b[0;31m---------------------------------------------------------------------------\u001b[0m",
      "\u001b[0;31mKeyboardInterrupt\u001b[0m                         Traceback (most recent call last)",
      "\u001b[0;32m/tmp/ipykernel_9571/3812748048.py\u001b[0m in \u001b[0;36m<module>\u001b[0;34m\u001b[0m\n\u001b[1;32m     15\u001b[0m             \u001b[0;31m#Invocation du API afin de recuperer les données\u001b[0m\u001b[0;34m\u001b[0m\u001b[0;34m\u001b[0m\u001b[0m\n\u001b[1;32m     16\u001b[0m             \u001b[0mprint\u001b[0m\u001b[0;34m(\u001b[0m\u001b[0mcolored\u001b[0m\u001b[0;34m(\u001b[0m\u001b[0;34m'Invocation du API afin de recuperer les données'\u001b[0m\u001b[0;34m,\u001b[0m \u001b[0;34m'red'\u001b[0m\u001b[0;34m,\u001b[0m\u001b[0mattrs\u001b[0m\u001b[0;34m=\u001b[0m\u001b[0;34m[\u001b[0m\u001b[0;34m'bold'\u001b[0m\u001b[0;34m]\u001b[0m\u001b[0;34m)\u001b[0m\u001b[0;34m)\u001b[0m\u001b[0;34m\u001b[0m\u001b[0;34m\u001b[0m\u001b[0m\n\u001b[0;32m---> 17\u001b[0;31m             \u001b[0mdata\u001b[0m\u001b[0;34m=\u001b[0m\u001b[0mdata_fetch\u001b[0m\u001b[0;34m(\u001b[0m\u001b[0murl\u001b[0m\u001b[0;34m)\u001b[0m\u001b[0;34m\u001b[0m\u001b[0;34m\u001b[0m\u001b[0m\n\u001b[0m\u001b[1;32m     18\u001b[0m \u001b[0;34m\u001b[0m\u001b[0m\n\u001b[1;32m     19\u001b[0m             \u001b[0mdata_orgnized\u001b[0m\u001b[0;34m=\u001b[0m\u001b[0mdata_organizer\u001b[0m\u001b[0;34m(\u001b[0m\u001b[0mdata\u001b[0m\u001b[0;34m)\u001b[0m\u001b[0;34m\u001b[0m\u001b[0;34m\u001b[0m\u001b[0m\n",
      "\u001b[0;32m/tmp/ipykernel_9571/3670555923.py\u001b[0m in \u001b[0;36mdata_fetch\u001b[0;34m(full_api_url)\u001b[0m\n\u001b[1;32m      1\u001b[0m \u001b[0;32mdef\u001b[0m \u001b[0mdata_fetch\u001b[0m\u001b[0;34m(\u001b[0m\u001b[0mfull_api_url\u001b[0m\u001b[0;34m)\u001b[0m\u001b[0;34m:\u001b[0m\u001b[0;34m\u001b[0m\u001b[0;34m\u001b[0m\u001b[0m\n\u001b[0;32m----> 2\u001b[0;31m     \u001b[0murl\u001b[0m \u001b[0;34m=\u001b[0m \u001b[0murllib\u001b[0m\u001b[0;34m.\u001b[0m\u001b[0mrequest\u001b[0m\u001b[0;34m.\u001b[0m\u001b[0murlopen\u001b[0m\u001b[0;34m(\u001b[0m\u001b[0mfull_api_url\u001b[0m\u001b[0;34m)\u001b[0m\u001b[0;34m\u001b[0m\u001b[0;34m\u001b[0m\u001b[0m\n\u001b[0m\u001b[1;32m      3\u001b[0m     \u001b[0moutput\u001b[0m \u001b[0;34m=\u001b[0m \u001b[0murl\u001b[0m\u001b[0;34m.\u001b[0m\u001b[0mread\u001b[0m\u001b[0;34m(\u001b[0m\u001b[0;34m)\u001b[0m\u001b[0;34m.\u001b[0m\u001b[0mdecode\u001b[0m\u001b[0;34m(\u001b[0m\u001b[0;34m'utf-8'\u001b[0m\u001b[0;34m)\u001b[0m\u001b[0;34m\u001b[0m\u001b[0;34m\u001b[0m\u001b[0m\n\u001b[1;32m      4\u001b[0m     \u001b[0mraw_api_dict\u001b[0m \u001b[0;34m=\u001b[0m \u001b[0mjson\u001b[0m\u001b[0;34m.\u001b[0m\u001b[0mloads\u001b[0m\u001b[0;34m(\u001b[0m\u001b[0moutput\u001b[0m\u001b[0;34m)\u001b[0m\u001b[0;34m\u001b[0m\u001b[0;34m\u001b[0m\u001b[0m\n\u001b[1;32m      5\u001b[0m     \u001b[0murl\u001b[0m\u001b[0;34m.\u001b[0m\u001b[0mclose\u001b[0m\u001b[0;34m(\u001b[0m\u001b[0;34m)\u001b[0m\u001b[0;34m\u001b[0m\u001b[0;34m\u001b[0m\u001b[0m\n",
      "\u001b[0;32m~/anaconda3/lib/python3.9/urllib/request.py\u001b[0m in \u001b[0;36murlopen\u001b[0;34m(url, data, timeout, cafile, capath, cadefault, context)\u001b[0m\n\u001b[1;32m    212\u001b[0m     \u001b[0;32melse\u001b[0m\u001b[0;34m:\u001b[0m\u001b[0;34m\u001b[0m\u001b[0;34m\u001b[0m\u001b[0m\n\u001b[1;32m    213\u001b[0m         \u001b[0mopener\u001b[0m \u001b[0;34m=\u001b[0m \u001b[0m_opener\u001b[0m\u001b[0;34m\u001b[0m\u001b[0;34m\u001b[0m\u001b[0m\n\u001b[0;32m--> 214\u001b[0;31m     \u001b[0;32mreturn\u001b[0m \u001b[0mopener\u001b[0m\u001b[0;34m.\u001b[0m\u001b[0mopen\u001b[0m\u001b[0;34m(\u001b[0m\u001b[0murl\u001b[0m\u001b[0;34m,\u001b[0m \u001b[0mdata\u001b[0m\u001b[0;34m,\u001b[0m \u001b[0mtimeout\u001b[0m\u001b[0;34m)\u001b[0m\u001b[0;34m\u001b[0m\u001b[0;34m\u001b[0m\u001b[0m\n\u001b[0m\u001b[1;32m    215\u001b[0m \u001b[0;34m\u001b[0m\u001b[0m\n\u001b[1;32m    216\u001b[0m \u001b[0;32mdef\u001b[0m \u001b[0minstall_opener\u001b[0m\u001b[0;34m(\u001b[0m\u001b[0mopener\u001b[0m\u001b[0;34m)\u001b[0m\u001b[0;34m:\u001b[0m\u001b[0;34m\u001b[0m\u001b[0;34m\u001b[0m\u001b[0m\n",
      "\u001b[0;32m~/anaconda3/lib/python3.9/urllib/request.py\u001b[0m in \u001b[0;36mopen\u001b[0;34m(self, fullurl, data, timeout)\u001b[0m\n\u001b[1;32m    515\u001b[0m \u001b[0;34m\u001b[0m\u001b[0m\n\u001b[1;32m    516\u001b[0m         \u001b[0msys\u001b[0m\u001b[0;34m.\u001b[0m\u001b[0maudit\u001b[0m\u001b[0;34m(\u001b[0m\u001b[0;34m'urllib.Request'\u001b[0m\u001b[0;34m,\u001b[0m \u001b[0mreq\u001b[0m\u001b[0;34m.\u001b[0m\u001b[0mfull_url\u001b[0m\u001b[0;34m,\u001b[0m \u001b[0mreq\u001b[0m\u001b[0;34m.\u001b[0m\u001b[0mdata\u001b[0m\u001b[0;34m,\u001b[0m \u001b[0mreq\u001b[0m\u001b[0;34m.\u001b[0m\u001b[0mheaders\u001b[0m\u001b[0;34m,\u001b[0m \u001b[0mreq\u001b[0m\u001b[0;34m.\u001b[0m\u001b[0mget_method\u001b[0m\u001b[0;34m(\u001b[0m\u001b[0;34m)\u001b[0m\u001b[0;34m)\u001b[0m\u001b[0;34m\u001b[0m\u001b[0;34m\u001b[0m\u001b[0m\n\u001b[0;32m--> 517\u001b[0;31m         \u001b[0mresponse\u001b[0m \u001b[0;34m=\u001b[0m \u001b[0mself\u001b[0m\u001b[0;34m.\u001b[0m\u001b[0m_open\u001b[0m\u001b[0;34m(\u001b[0m\u001b[0mreq\u001b[0m\u001b[0;34m,\u001b[0m \u001b[0mdata\u001b[0m\u001b[0;34m)\u001b[0m\u001b[0;34m\u001b[0m\u001b[0;34m\u001b[0m\u001b[0m\n\u001b[0m\u001b[1;32m    518\u001b[0m \u001b[0;34m\u001b[0m\u001b[0m\n\u001b[1;32m    519\u001b[0m         \u001b[0;31m# post-process response\u001b[0m\u001b[0;34m\u001b[0m\u001b[0;34m\u001b[0m\u001b[0m\n",
      "\u001b[0;32m~/anaconda3/lib/python3.9/urllib/request.py\u001b[0m in \u001b[0;36m_open\u001b[0;34m(self, req, data)\u001b[0m\n\u001b[1;32m    532\u001b[0m \u001b[0;34m\u001b[0m\u001b[0m\n\u001b[1;32m    533\u001b[0m         \u001b[0mprotocol\u001b[0m \u001b[0;34m=\u001b[0m \u001b[0mreq\u001b[0m\u001b[0;34m.\u001b[0m\u001b[0mtype\u001b[0m\u001b[0;34m\u001b[0m\u001b[0;34m\u001b[0m\u001b[0m\n\u001b[0;32m--> 534\u001b[0;31m         result = self._call_chain(self.handle_open, protocol, protocol +\n\u001b[0m\u001b[1;32m    535\u001b[0m                                   '_open', req)\n\u001b[1;32m    536\u001b[0m         \u001b[0;32mif\u001b[0m \u001b[0mresult\u001b[0m\u001b[0;34m:\u001b[0m\u001b[0;34m\u001b[0m\u001b[0;34m\u001b[0m\u001b[0m\n",
      "\u001b[0;32m~/anaconda3/lib/python3.9/urllib/request.py\u001b[0m in \u001b[0;36m_call_chain\u001b[0;34m(self, chain, kind, meth_name, *args)\u001b[0m\n\u001b[1;32m    492\u001b[0m         \u001b[0;32mfor\u001b[0m \u001b[0mhandler\u001b[0m \u001b[0;32min\u001b[0m \u001b[0mhandlers\u001b[0m\u001b[0;34m:\u001b[0m\u001b[0;34m\u001b[0m\u001b[0;34m\u001b[0m\u001b[0m\n\u001b[1;32m    493\u001b[0m             \u001b[0mfunc\u001b[0m \u001b[0;34m=\u001b[0m \u001b[0mgetattr\u001b[0m\u001b[0;34m(\u001b[0m\u001b[0mhandler\u001b[0m\u001b[0;34m,\u001b[0m \u001b[0mmeth_name\u001b[0m\u001b[0;34m)\u001b[0m\u001b[0;34m\u001b[0m\u001b[0;34m\u001b[0m\u001b[0m\n\u001b[0;32m--> 494\u001b[0;31m             \u001b[0mresult\u001b[0m \u001b[0;34m=\u001b[0m \u001b[0mfunc\u001b[0m\u001b[0;34m(\u001b[0m\u001b[0;34m*\u001b[0m\u001b[0margs\u001b[0m\u001b[0;34m)\u001b[0m\u001b[0;34m\u001b[0m\u001b[0;34m\u001b[0m\u001b[0m\n\u001b[0m\u001b[1;32m    495\u001b[0m             \u001b[0;32mif\u001b[0m \u001b[0mresult\u001b[0m \u001b[0;32mis\u001b[0m \u001b[0;32mnot\u001b[0m \u001b[0;32mNone\u001b[0m\u001b[0;34m:\u001b[0m\u001b[0;34m\u001b[0m\u001b[0;34m\u001b[0m\u001b[0m\n\u001b[1;32m    496\u001b[0m                 \u001b[0;32mreturn\u001b[0m \u001b[0mresult\u001b[0m\u001b[0;34m\u001b[0m\u001b[0;34m\u001b[0m\u001b[0m\n",
      "\u001b[0;32m~/anaconda3/lib/python3.9/urllib/request.py\u001b[0m in \u001b[0;36mhttp_open\u001b[0;34m(self, req)\u001b[0m\n\u001b[1;32m   1373\u001b[0m \u001b[0;34m\u001b[0m\u001b[0m\n\u001b[1;32m   1374\u001b[0m     \u001b[0;32mdef\u001b[0m \u001b[0mhttp_open\u001b[0m\u001b[0;34m(\u001b[0m\u001b[0mself\u001b[0m\u001b[0;34m,\u001b[0m \u001b[0mreq\u001b[0m\u001b[0;34m)\u001b[0m\u001b[0;34m:\u001b[0m\u001b[0;34m\u001b[0m\u001b[0;34m\u001b[0m\u001b[0m\n\u001b[0;32m-> 1375\u001b[0;31m         \u001b[0;32mreturn\u001b[0m \u001b[0mself\u001b[0m\u001b[0;34m.\u001b[0m\u001b[0mdo_open\u001b[0m\u001b[0;34m(\u001b[0m\u001b[0mhttp\u001b[0m\u001b[0;34m.\u001b[0m\u001b[0mclient\u001b[0m\u001b[0;34m.\u001b[0m\u001b[0mHTTPConnection\u001b[0m\u001b[0;34m,\u001b[0m \u001b[0mreq\u001b[0m\u001b[0;34m)\u001b[0m\u001b[0;34m\u001b[0m\u001b[0;34m\u001b[0m\u001b[0m\n\u001b[0m\u001b[1;32m   1376\u001b[0m \u001b[0;34m\u001b[0m\u001b[0m\n\u001b[1;32m   1377\u001b[0m     \u001b[0mhttp_request\u001b[0m \u001b[0;34m=\u001b[0m \u001b[0mAbstractHTTPHandler\u001b[0m\u001b[0;34m.\u001b[0m\u001b[0mdo_request_\u001b[0m\u001b[0;34m\u001b[0m\u001b[0;34m\u001b[0m\u001b[0m\n",
      "\u001b[0;32m~/anaconda3/lib/python3.9/urllib/request.py\u001b[0m in \u001b[0;36mdo_open\u001b[0;34m(self, http_class, req, **http_conn_args)\u001b[0m\n\u001b[1;32m   1348\u001b[0m             \u001b[0;32mexcept\u001b[0m \u001b[0mOSError\u001b[0m \u001b[0;32mas\u001b[0m \u001b[0merr\u001b[0m\u001b[0;34m:\u001b[0m \u001b[0;31m# timeout error\u001b[0m\u001b[0;34m\u001b[0m\u001b[0;34m\u001b[0m\u001b[0m\n\u001b[1;32m   1349\u001b[0m                 \u001b[0;32mraise\u001b[0m \u001b[0mURLError\u001b[0m\u001b[0;34m(\u001b[0m\u001b[0merr\u001b[0m\u001b[0;34m)\u001b[0m\u001b[0;34m\u001b[0m\u001b[0;34m\u001b[0m\u001b[0m\n\u001b[0;32m-> 1350\u001b[0;31m             \u001b[0mr\u001b[0m \u001b[0;34m=\u001b[0m \u001b[0mh\u001b[0m\u001b[0;34m.\u001b[0m\u001b[0mgetresponse\u001b[0m\u001b[0;34m(\u001b[0m\u001b[0;34m)\u001b[0m\u001b[0;34m\u001b[0m\u001b[0;34m\u001b[0m\u001b[0m\n\u001b[0m\u001b[1;32m   1351\u001b[0m         \u001b[0;32mexcept\u001b[0m\u001b[0;34m:\u001b[0m\u001b[0;34m\u001b[0m\u001b[0;34m\u001b[0m\u001b[0m\n\u001b[1;32m   1352\u001b[0m             \u001b[0mh\u001b[0m\u001b[0;34m.\u001b[0m\u001b[0mclose\u001b[0m\u001b[0;34m(\u001b[0m\u001b[0;34m)\u001b[0m\u001b[0;34m\u001b[0m\u001b[0;34m\u001b[0m\u001b[0m\n",
      "\u001b[0;32m~/anaconda3/lib/python3.9/http/client.py\u001b[0m in \u001b[0;36mgetresponse\u001b[0;34m(self)\u001b[0m\n\u001b[1;32m   1369\u001b[0m         \u001b[0;32mtry\u001b[0m\u001b[0;34m:\u001b[0m\u001b[0;34m\u001b[0m\u001b[0;34m\u001b[0m\u001b[0m\n\u001b[1;32m   1370\u001b[0m             \u001b[0;32mtry\u001b[0m\u001b[0;34m:\u001b[0m\u001b[0;34m\u001b[0m\u001b[0;34m\u001b[0m\u001b[0m\n\u001b[0;32m-> 1371\u001b[0;31m                 \u001b[0mresponse\u001b[0m\u001b[0;34m.\u001b[0m\u001b[0mbegin\u001b[0m\u001b[0;34m(\u001b[0m\u001b[0;34m)\u001b[0m\u001b[0;34m\u001b[0m\u001b[0;34m\u001b[0m\u001b[0m\n\u001b[0m\u001b[1;32m   1372\u001b[0m             \u001b[0;32mexcept\u001b[0m \u001b[0mConnectionError\u001b[0m\u001b[0;34m:\u001b[0m\u001b[0;34m\u001b[0m\u001b[0;34m\u001b[0m\u001b[0m\n\u001b[1;32m   1373\u001b[0m                 \u001b[0mself\u001b[0m\u001b[0;34m.\u001b[0m\u001b[0mclose\u001b[0m\u001b[0;34m(\u001b[0m\u001b[0;34m)\u001b[0m\u001b[0;34m\u001b[0m\u001b[0;34m\u001b[0m\u001b[0m\n",
      "\u001b[0;32m~/anaconda3/lib/python3.9/http/client.py\u001b[0m in \u001b[0;36mbegin\u001b[0;34m(self)\u001b[0m\n\u001b[1;32m    317\u001b[0m         \u001b[0;31m# read until we get a non-100 response\u001b[0m\u001b[0;34m\u001b[0m\u001b[0;34m\u001b[0m\u001b[0m\n\u001b[1;32m    318\u001b[0m         \u001b[0;32mwhile\u001b[0m \u001b[0;32mTrue\u001b[0m\u001b[0;34m:\u001b[0m\u001b[0;34m\u001b[0m\u001b[0;34m\u001b[0m\u001b[0m\n\u001b[0;32m--> 319\u001b[0;31m             \u001b[0mversion\u001b[0m\u001b[0;34m,\u001b[0m \u001b[0mstatus\u001b[0m\u001b[0;34m,\u001b[0m \u001b[0mreason\u001b[0m \u001b[0;34m=\u001b[0m \u001b[0mself\u001b[0m\u001b[0;34m.\u001b[0m\u001b[0m_read_status\u001b[0m\u001b[0;34m(\u001b[0m\u001b[0;34m)\u001b[0m\u001b[0;34m\u001b[0m\u001b[0;34m\u001b[0m\u001b[0m\n\u001b[0m\u001b[1;32m    320\u001b[0m             \u001b[0;32mif\u001b[0m \u001b[0mstatus\u001b[0m \u001b[0;34m!=\u001b[0m \u001b[0mCONTINUE\u001b[0m\u001b[0;34m:\u001b[0m\u001b[0;34m\u001b[0m\u001b[0;34m\u001b[0m\u001b[0m\n\u001b[1;32m    321\u001b[0m                 \u001b[0;32mbreak\u001b[0m\u001b[0;34m\u001b[0m\u001b[0;34m\u001b[0m\u001b[0m\n",
      "\u001b[0;32m~/anaconda3/lib/python3.9/http/client.py\u001b[0m in \u001b[0;36m_read_status\u001b[0;34m(self)\u001b[0m\n\u001b[1;32m    278\u001b[0m \u001b[0;34m\u001b[0m\u001b[0m\n\u001b[1;32m    279\u001b[0m     \u001b[0;32mdef\u001b[0m \u001b[0m_read_status\u001b[0m\u001b[0;34m(\u001b[0m\u001b[0mself\u001b[0m\u001b[0;34m)\u001b[0m\u001b[0;34m:\u001b[0m\u001b[0;34m\u001b[0m\u001b[0;34m\u001b[0m\u001b[0m\n\u001b[0;32m--> 280\u001b[0;31m         \u001b[0mline\u001b[0m \u001b[0;34m=\u001b[0m \u001b[0mstr\u001b[0m\u001b[0;34m(\u001b[0m\u001b[0mself\u001b[0m\u001b[0;34m.\u001b[0m\u001b[0mfp\u001b[0m\u001b[0;34m.\u001b[0m\u001b[0mreadline\u001b[0m\u001b[0;34m(\u001b[0m\u001b[0m_MAXLINE\u001b[0m \u001b[0;34m+\u001b[0m \u001b[0;36m1\u001b[0m\u001b[0;34m)\u001b[0m\u001b[0;34m,\u001b[0m \u001b[0;34m\"iso-8859-1\"\u001b[0m\u001b[0;34m)\u001b[0m\u001b[0;34m\u001b[0m\u001b[0;34m\u001b[0m\u001b[0m\n\u001b[0m\u001b[1;32m    281\u001b[0m         \u001b[0;32mif\u001b[0m \u001b[0mlen\u001b[0m\u001b[0;34m(\u001b[0m\u001b[0mline\u001b[0m\u001b[0;34m)\u001b[0m \u001b[0;34m>\u001b[0m \u001b[0m_MAXLINE\u001b[0m\u001b[0;34m:\u001b[0m\u001b[0;34m\u001b[0m\u001b[0;34m\u001b[0m\u001b[0m\n\u001b[1;32m    282\u001b[0m             \u001b[0;32mraise\u001b[0m \u001b[0mLineTooLong\u001b[0m\u001b[0;34m(\u001b[0m\u001b[0;34m\"status line\"\u001b[0m\u001b[0;34m)\u001b[0m\u001b[0;34m\u001b[0m\u001b[0;34m\u001b[0m\u001b[0m\n",
      "\u001b[0;32m~/anaconda3/lib/python3.9/socket.py\u001b[0m in \u001b[0;36mreadinto\u001b[0;34m(self, b)\u001b[0m\n\u001b[1;32m    702\u001b[0m         \u001b[0;32mwhile\u001b[0m \u001b[0;32mTrue\u001b[0m\u001b[0;34m:\u001b[0m\u001b[0;34m\u001b[0m\u001b[0;34m\u001b[0m\u001b[0m\n\u001b[1;32m    703\u001b[0m             \u001b[0;32mtry\u001b[0m\u001b[0;34m:\u001b[0m\u001b[0;34m\u001b[0m\u001b[0;34m\u001b[0m\u001b[0m\n\u001b[0;32m--> 704\u001b[0;31m                 \u001b[0;32mreturn\u001b[0m \u001b[0mself\u001b[0m\u001b[0;34m.\u001b[0m\u001b[0m_sock\u001b[0m\u001b[0;34m.\u001b[0m\u001b[0mrecv_into\u001b[0m\u001b[0;34m(\u001b[0m\u001b[0mb\u001b[0m\u001b[0;34m)\u001b[0m\u001b[0;34m\u001b[0m\u001b[0;34m\u001b[0m\u001b[0m\n\u001b[0m\u001b[1;32m    705\u001b[0m             \u001b[0;32mexcept\u001b[0m \u001b[0mtimeout\u001b[0m\u001b[0;34m:\u001b[0m\u001b[0;34m\u001b[0m\u001b[0;34m\u001b[0m\u001b[0m\n\u001b[1;32m    706\u001b[0m                 \u001b[0mself\u001b[0m\u001b[0;34m.\u001b[0m\u001b[0m_timeout_occurred\u001b[0m \u001b[0;34m=\u001b[0m \u001b[0;32mTrue\u001b[0m\u001b[0;34m\u001b[0m\u001b[0;34m\u001b[0m\u001b[0m\n",
      "\u001b[0;31mKeyboardInterrupt\u001b[0m: "
     ]
    }
   ],
   "source": [
    "if __name__ == '__main__':\n",
    "    try:\n",
    "        for i in range(100):\n",
    "            \n",
    "            import time \n",
    "            city_id    =  ids_france[i]\n",
    "            print(colored('Generation de l url ', 'red',attrs=['bold']))\n",
    "            url=url_builder(city_id,'','')\n",
    "            #Invocation du API afin de recuperer les données\n",
    "            print(colored('Invocation du API afin de recuperer les données', 'red',attrs=['bold']))\n",
    "            data=data_fetch(url)\n",
    "            data_orgnized=data_organizer(data)\n",
    "            #Enregistrement des données à dans un fichier CSV \n",
    "            WriteCSV(data_orgnized)\n",
    "        print(\"Les temperatures de toutes les villes sont scrappees :D\")\n",
    "    except IOError:\n",
    "        print('no internet')\n",
    "        print(\"Seullement \" + str(i) + \" villes ont pu étre scrapper\")\n",
    "\n",
    "df = pd.read_csv(\"weatherOpenMap.csv\",\n",
    "                     usecols    = [i for i in range(0,11)], \n",
    "                     names      = ['city','country','Temperature','temp_max','temp_min','humidity','pressure','sky','sunrise','sunset','wind_speed'],    \n",
    "                     index_col  = None)\n",
    "df.to_csv(\"weatherOpenMap.csv\",index = False) \n",
    "df      "
   ]
  },
  {
   "cell_type": "code",
   "execution_count": 14,
   "metadata": {},
   "outputs": [
    {
     "name": "stdout",
     "output_type": "stream",
     "text": [
      "Requirement already satisfied: cassandra-driver in /home/fitec/anaconda3/lib/python3.9/site-packages (3.25.0)\n",
      "Requirement already satisfied: six>=1.9 in /home/fitec/anaconda3/lib/python3.9/site-packages (from cassandra-driver) (1.16.0)\n",
      "Requirement already satisfied: geomet<0.3,>=0.1 in /home/fitec/anaconda3/lib/python3.9/site-packages (from cassandra-driver) (0.2.1.post1)\n",
      "Requirement already satisfied: click in /home/fitec/anaconda3/lib/python3.9/site-packages (from geomet<0.3,>=0.1->cassandra-driver) (8.0.3)\n",
      "Requirement already satisfied: pandas in /home/fitec/anaconda3/lib/python3.9/site-packages (1.3.4)\n",
      "Requirement already satisfied: python-dateutil>=2.7.3 in /home/fitec/anaconda3/lib/python3.9/site-packages (from pandas) (2.8.2)\n",
      "Requirement already satisfied: pytz>=2017.3 in /home/fitec/anaconda3/lib/python3.9/site-packages (from pandas) (2021.3)\n",
      "Requirement already satisfied: numpy>=1.17.3 in /home/fitec/anaconda3/lib/python3.9/site-packages (from pandas) (1.20.3)\n",
      "Requirement already satisfied: six>=1.5 in /home/fitec/anaconda3/lib/python3.9/site-packages (from python-dateutil>=2.7.3->pandas) (1.16.0)\n"
     ]
    }
   ],
   "source": [
    "!pip install cassandra-driver\n",
    "!pip install pandas"
   ]
  },
  {
   "cell_type": "code",
   "execution_count": 15,
   "metadata": {},
   "outputs": [],
   "source": [
    "import pandas as pd\n",
    "import warnings"
   ]
  },
  {
   "cell_type": "code",
   "execution_count": 17,
   "metadata": {},
   "outputs": [
    {
     "data": {
      "text/html": [
       "<div>\n",
       "<style scoped>\n",
       "    .dataframe tbody tr th:only-of-type {\n",
       "        vertical-align: middle;\n",
       "    }\n",
       "\n",
       "    .dataframe tbody tr th {\n",
       "        vertical-align: top;\n",
       "    }\n",
       "\n",
       "    .dataframe thead th {\n",
       "        text-align: right;\n",
       "    }\n",
       "</style>\n",
       "<table border=\"1\" class=\"dataframe\">\n",
       "  <thead>\n",
       "    <tr style=\"text-align: right;\">\n",
       "      <th></th>\n",
       "      <th>city</th>\n",
       "      <th>country</th>\n",
       "      <th>Temperature</th>\n",
       "      <th>temp_max</th>\n",
       "      <th>temp_min</th>\n",
       "      <th>humidity</th>\n",
       "      <th>pressure</th>\n",
       "      <th>sky</th>\n",
       "      <th>sunrise</th>\n",
       "      <th>sunset</th>\n",
       "      <th>wind_speed</th>\n",
       "    </tr>\n",
       "  </thead>\n",
       "  <tbody>\n",
       "    <tr>\n",
       "      <th>0</th>\n",
       "      <td>Forville</td>\n",
       "      <td>FR</td>\n",
       "      <td>-2.03</td>\n",
       "      <td>-0.69</td>\n",
       "      <td>-4.59</td>\n",
       "      <td>95</td>\n",
       "      <td>1030</td>\n",
       "      <td>Clouds</td>\n",
       "      <td>08:04 AM</td>\n",
       "      <td>05:23 PM</td>\n",
       "      <td>3.03</td>\n",
       "    </tr>\n",
       "    <tr>\n",
       "      <th>1</th>\n",
       "      <td>La Portanière</td>\n",
       "      <td>FR</td>\n",
       "      <td>5.61</td>\n",
       "      <td>6.59</td>\n",
       "      <td>4.33</td>\n",
       "      <td>59</td>\n",
       "      <td>1018</td>\n",
       "      <td>Clear</td>\n",
       "      <td>08:01 AM</td>\n",
       "      <td>05:30 PM</td>\n",
       "      <td>3.09</td>\n",
       "    </tr>\n",
       "    <tr>\n",
       "      <th>2</th>\n",
       "      <td>Wittenheim</td>\n",
       "      <td>FR</td>\n",
       "      <td>-0.28</td>\n",
       "      <td>0.77</td>\n",
       "      <td>-1.10</td>\n",
       "      <td>93</td>\n",
       "      <td>1032</td>\n",
       "      <td>Clouds</td>\n",
       "      <td>08:11 AM</td>\n",
       "      <td>05:11 PM</td>\n",
       "      <td>0.98</td>\n",
       "    </tr>\n",
       "    <tr>\n",
       "      <th>3</th>\n",
       "      <td>Wattrelos</td>\n",
       "      <td>FR</td>\n",
       "      <td>1.98</td>\n",
       "      <td>3.81</td>\n",
       "      <td>1.05</td>\n",
       "      <td>89</td>\n",
       "      <td>1036</td>\n",
       "      <td>Clouds</td>\n",
       "      <td>08:38 AM</td>\n",
       "      <td>05:17 PM</td>\n",
       "      <td>3.09</td>\n",
       "    </tr>\n",
       "    <tr>\n",
       "      <th>4</th>\n",
       "      <td>Vitré</td>\n",
       "      <td>FR</td>\n",
       "      <td>2.28</td>\n",
       "      <td>2.75</td>\n",
       "      <td>-0.29</td>\n",
       "      <td>89</td>\n",
       "      <td>1038</td>\n",
       "      <td>Clouds</td>\n",
       "      <td>08:46 AM</td>\n",
       "      <td>05:44 PM</td>\n",
       "      <td>3.41</td>\n",
       "    </tr>\n",
       "    <tr>\n",
       "      <th>...</th>\n",
       "      <td>...</td>\n",
       "      <td>...</td>\n",
       "      <td>...</td>\n",
       "      <td>...</td>\n",
       "      <td>...</td>\n",
       "      <td>...</td>\n",
       "      <td>...</td>\n",
       "      <td>...</td>\n",
       "      <td>...</td>\n",
       "      <td>...</td>\n",
       "      <td>...</td>\n",
       "    </tr>\n",
       "    <tr>\n",
       "      <th>95</th>\n",
       "      <td>Saint-Trosse</td>\n",
       "      <td>FR</td>\n",
       "      <td>4.20</td>\n",
       "      <td>7.41</td>\n",
       "      <td>1.68</td>\n",
       "      <td>79</td>\n",
       "      <td>1033</td>\n",
       "      <td>Clouds</td>\n",
       "      <td>08:33 AM</td>\n",
       "      <td>05:56 PM</td>\n",
       "      <td>2.72</td>\n",
       "    </tr>\n",
       "    <tr>\n",
       "      <th>96</th>\n",
       "      <td>Arrondissement de Périgueux</td>\n",
       "      <td>FR</td>\n",
       "      <td>1.56</td>\n",
       "      <td>3.31</td>\n",
       "      <td>-0.17</td>\n",
       "      <td>85</td>\n",
       "      <td>1030</td>\n",
       "      <td>Clear</td>\n",
       "      <td>08:29 AM</td>\n",
       "      <td>05:47 PM</td>\n",
       "      <td>2.34</td>\n",
       "    </tr>\n",
       "    <tr>\n",
       "      <th>97</th>\n",
       "      <td>Arrondissement de La Tour-du-Pin</td>\n",
       "      <td>FR</td>\n",
       "      <td>1.42</td>\n",
       "      <td>2.39</td>\n",
       "      <td>0.64</td>\n",
       "      <td>94</td>\n",
       "      <td>1029</td>\n",
       "      <td>Clouds</td>\n",
       "      <td>08:11 AM</td>\n",
       "      <td>05:26 PM</td>\n",
       "      <td>3.68</td>\n",
       "    </tr>\n",
       "    <tr>\n",
       "      <th>98</th>\n",
       "      <td>Four</td>\n",
       "      <td>FR</td>\n",
       "      <td>2.09</td>\n",
       "      <td>2.98</td>\n",
       "      <td>1.23</td>\n",
       "      <td>87</td>\n",
       "      <td>1029</td>\n",
       "      <td>Clouds</td>\n",
       "      <td>08:12 AM</td>\n",
       "      <td>05:27 PM</td>\n",
       "      <td>7.20</td>\n",
       "    </tr>\n",
       "    <tr>\n",
       "      <th>99</th>\n",
       "      <td>Corent</td>\n",
       "      <td>FR</td>\n",
       "      <td>2.63</td>\n",
       "      <td>2.63</td>\n",
       "      <td>2.63</td>\n",
       "      <td>87</td>\n",
       "      <td>1031</td>\n",
       "      <td>Clouds</td>\n",
       "      <td>08:20 AM</td>\n",
       "      <td>05:35 PM</td>\n",
       "      <td>4.63</td>\n",
       "    </tr>\n",
       "  </tbody>\n",
       "</table>\n",
       "<p>100 rows × 11 columns</p>\n",
       "</div>"
      ],
      "text/plain": [
       "                                city country  Temperature  temp_max  temp_min  \\\n",
       "0                           Forville      FR        -2.03     -0.69     -4.59   \n",
       "1                      La Portanière      FR         5.61      6.59      4.33   \n",
       "2                         Wittenheim      FR        -0.28      0.77     -1.10   \n",
       "3                          Wattrelos      FR         1.98      3.81      1.05   \n",
       "4                              Vitré      FR         2.28      2.75     -0.29   \n",
       "..                               ...     ...          ...       ...       ...   \n",
       "95                      Saint-Trosse      FR         4.20      7.41      1.68   \n",
       "96       Arrondissement de Périgueux      FR         1.56      3.31     -0.17   \n",
       "97  Arrondissement de La Tour-du-Pin      FR         1.42      2.39      0.64   \n",
       "98                              Four      FR         2.09      2.98      1.23   \n",
       "99                            Corent      FR         2.63      2.63      2.63   \n",
       "\n",
       "    humidity  pressure     sky   sunrise    sunset  wind_speed  \n",
       "0         95      1030  Clouds  08:04 AM  05:23 PM        3.03  \n",
       "1         59      1018   Clear  08:01 AM  05:30 PM        3.09  \n",
       "2         93      1032  Clouds  08:11 AM  05:11 PM        0.98  \n",
       "3         89      1036  Clouds  08:38 AM  05:17 PM        3.09  \n",
       "4         89      1038  Clouds  08:46 AM  05:44 PM        3.41  \n",
       "..       ...       ...     ...       ...       ...         ...  \n",
       "95        79      1033  Clouds  08:33 AM  05:56 PM        2.72  \n",
       "96        85      1030   Clear  08:29 AM  05:47 PM        2.34  \n",
       "97        94      1029  Clouds  08:11 AM  05:26 PM        3.68  \n",
       "98        87      1029  Clouds  08:12 AM  05:27 PM        7.20  \n",
       "99        87      1031  Clouds  08:20 AM  05:35 PM        4.63  \n",
       "\n",
       "[100 rows x 11 columns]"
      ]
     },
     "execution_count": 17,
     "metadata": {},
     "output_type": "execute_result"
    }
   ],
   "source": [
    "df = pd.read_csv(\"weatherOpenMap.csv\")\n",
    "df"
   ]
  },
  {
   "cell_type": "code",
   "execution_count": 18,
   "metadata": {},
   "outputs": [
    {
     "data": {
      "text/html": [
       "<div>\n",
       "<style scoped>\n",
       "    .dataframe tbody tr th:only-of-type {\n",
       "        vertical-align: middle;\n",
       "    }\n",
       "\n",
       "    .dataframe tbody tr th {\n",
       "        vertical-align: top;\n",
       "    }\n",
       "\n",
       "    .dataframe thead th {\n",
       "        text-align: right;\n",
       "    }\n",
       "</style>\n",
       "<table border=\"1\" class=\"dataframe\">\n",
       "  <thead>\n",
       "    <tr style=\"text-align: right;\">\n",
       "      <th></th>\n",
       "      <th>city</th>\n",
       "      <th>Temperature</th>\n",
       "      <th>temp_max</th>\n",
       "      <th>temp_min</th>\n",
       "    </tr>\n",
       "  </thead>\n",
       "  <tbody>\n",
       "    <tr>\n",
       "      <th>0</th>\n",
       "      <td>Forville</td>\n",
       "      <td>-2.03</td>\n",
       "      <td>-0.69</td>\n",
       "      <td>-4.59</td>\n",
       "    </tr>\n",
       "    <tr>\n",
       "      <th>1</th>\n",
       "      <td>La Portanière</td>\n",
       "      <td>5.61</td>\n",
       "      <td>6.59</td>\n",
       "      <td>4.33</td>\n",
       "    </tr>\n",
       "    <tr>\n",
       "      <th>2</th>\n",
       "      <td>Wittenheim</td>\n",
       "      <td>-0.28</td>\n",
       "      <td>0.77</td>\n",
       "      <td>-1.10</td>\n",
       "    </tr>\n",
       "    <tr>\n",
       "      <th>3</th>\n",
       "      <td>Wattrelos</td>\n",
       "      <td>1.98</td>\n",
       "      <td>3.81</td>\n",
       "      <td>1.05</td>\n",
       "    </tr>\n",
       "    <tr>\n",
       "      <th>4</th>\n",
       "      <td>Vitré</td>\n",
       "      <td>2.28</td>\n",
       "      <td>2.75</td>\n",
       "      <td>-0.29</td>\n",
       "    </tr>\n",
       "    <tr>\n",
       "      <th>...</th>\n",
       "      <td>...</td>\n",
       "      <td>...</td>\n",
       "      <td>...</td>\n",
       "      <td>...</td>\n",
       "    </tr>\n",
       "    <tr>\n",
       "      <th>95</th>\n",
       "      <td>Saint-Trosse</td>\n",
       "      <td>4.20</td>\n",
       "      <td>7.41</td>\n",
       "      <td>1.68</td>\n",
       "    </tr>\n",
       "    <tr>\n",
       "      <th>96</th>\n",
       "      <td>Arrondissement de Périgueux</td>\n",
       "      <td>1.56</td>\n",
       "      <td>3.31</td>\n",
       "      <td>-0.17</td>\n",
       "    </tr>\n",
       "    <tr>\n",
       "      <th>97</th>\n",
       "      <td>Arrondissement de La Tour-du-Pin</td>\n",
       "      <td>1.42</td>\n",
       "      <td>2.39</td>\n",
       "      <td>0.64</td>\n",
       "    </tr>\n",
       "    <tr>\n",
       "      <th>98</th>\n",
       "      <td>Four</td>\n",
       "      <td>2.09</td>\n",
       "      <td>2.98</td>\n",
       "      <td>1.23</td>\n",
       "    </tr>\n",
       "    <tr>\n",
       "      <th>99</th>\n",
       "      <td>Corent</td>\n",
       "      <td>2.63</td>\n",
       "      <td>2.63</td>\n",
       "      <td>2.63</td>\n",
       "    </tr>\n",
       "  </tbody>\n",
       "</table>\n",
       "<p>100 rows × 4 columns</p>\n",
       "</div>"
      ],
      "text/plain": [
       "                                city  Temperature  temp_max  temp_min\n",
       "0                           Forville        -2.03     -0.69     -4.59\n",
       "1                      La Portanière         5.61      6.59      4.33\n",
       "2                         Wittenheim        -0.28      0.77     -1.10\n",
       "3                          Wattrelos         1.98      3.81      1.05\n",
       "4                              Vitré         2.28      2.75     -0.29\n",
       "..                               ...          ...       ...       ...\n",
       "95                      Saint-Trosse         4.20      7.41      1.68\n",
       "96       Arrondissement de Périgueux         1.56      3.31     -0.17\n",
       "97  Arrondissement de La Tour-du-Pin         1.42      2.39      0.64\n",
       "98                              Four         2.09      2.98      1.23\n",
       "99                            Corent         2.63      2.63      2.63\n",
       "\n",
       "[100 rows x 4 columns]"
      ]
     },
     "execution_count": 18,
     "metadata": {},
     "output_type": "execute_result"
    }
   ],
   "source": [
    "\n",
    "df = df [['city','Temperature','temp_max' ,'temp_min']]\n",
    "#df=df.head(21)\n",
    "df"
   ]
  },
  {
   "cell_type": "markdown",
   "metadata": {},
   "source": [
    "#  - Ingester les données à Casandra\n",
    "\n",
    "- 1 Connecter au cluster Cassandra\n",
    "- 2 Charger les données vers cassandra\n",
    "\n",
    "     * Insertion des données (city) vers Cassandra\n",
    "    * Mettre a jour les données (weather) dans Cassandra"
   ]
  },
  {
   "cell_type": "markdown",
   "metadata": {},
   "source": [
    "# Connexion au cluster Cassandra"
   ]
  },
  {
   "cell_type": "markdown",
   "metadata": {},
   "source": [
    "définir les parametres de configuration d'accès au Cluste"
   ]
  },
  {
   "cell_type": "code",
   "execution_count": 51,
   "metadata": {},
   "outputs": [],
   "source": [
    "CASSANDRA_HOST = ['localhost'] \n",
    "CASSANDRA_PORT = 9042\n",
    "CASSANDRA_DB = \"weather\"\n",
    "CASSANDRA_TABLE = \"countries_france\"\n",
    "\n",
    "def pandas_factory(colnames, rows):\n",
    "    return pd.DataFrame(rows, columns=colnames)\n",
    "#on force ici a repecter le datframe de pandas lors de la recuperation des données\n",
    "try:\n",
    "    cluster = Cluster(protocol_version=3,contact_points=CASSANDRA_HOST,load_balancing_policy=None,port=CASSANDRA_PORT)\n",
    "    session =cluster.connect()\n",
    "except ValueError:\n",
    "    print(\"Oops!  échec de connexion cluster.  Try again...\")"
   ]
  },
  {
   "cell_type": "markdown",
   "metadata": {},
   "source": [
    "creation du key space"
   ]
  },
  {
   "cell_type": "code",
   "execution_count": 52,
   "metadata": {},
   "outputs": [
    {
     "data": {
      "text/plain": [
       "<cassandra.cluster.ResultSet at 0x7f7df8ec75b0>"
      ]
     },
     "execution_count": 52,
     "metadata": {},
     "output_type": "execute_result"
    }
   ],
   "source": [
    "\n",
    "session.execute(\"CREATE KEYSPACE IF NOT EXISTS weatherapi WITH REPLICATION={'class':'SimpleStrategy','replication_factor':3};\")"
   ]
  },
  {
   "cell_type": "code",
   "execution_count": 55,
   "metadata": {},
   "outputs": [
    {
     "data": {
      "text/plain": [
       "<cassandra.cluster.ResultSet at 0x7f7df946b130>"
      ]
     },
     "execution_count": 55,
     "metadata": {},
     "output_type": "execute_result"
    }
   ],
   "source": [
    "#Creation de type Covid\n",
    "#session.execute(\"CREATE TYPE IF NOT EXISTS  weather_frApp.weatherType (date DATE, temp_max FLOAT, temp_min FLOAT);\")\n",
    "#Creation de la table  \n",
    "#session.execute(\"CREATE TABLE IF NOT EXISTS  weather_frApp.french_cities (city TEXT,date DATE,meteo map<date, frozen<weatherType>>, primary key (city));\")\n",
    "session.execute(\"create table weatherapi.weather_fr(city TEXT primary key, weather map<text,float>);\")\n",
    "#session.execute(\"insert into weather_frApp.weather_fr(city,weather) values ('Paris',{'temp_max': '90','temp_min': '90'});\")"
   ]
  },
  {
   "cell_type": "code",
   "execution_count": 56,
   "metadata": {},
   "outputs": [
    {
     "data": {
      "text/plain": [
       "[Row(city='Wattrelos', weather=OrderedMapSerializedKey([('Temperature', 1.9800000190734863), ('temp_max', 3.809999942779541), ('temp_min', 1.0499999523162842)])),\n",
       " Row(city='Forville', weather=OrderedMapSerializedKey([('Temperature', -2.0299999713897705), ('temp_max', -0.6899999976158142), ('temp_min', -4.590000152587891)])),\n",
       " Row(city='Viry-Châtillon', weather=OrderedMapSerializedKey([('Temperature', 3.680000066757202), ('temp_max', 4.53000020980835), ('temp_min', 2.390000104904175)])),\n",
       " Row(city='Vierzon', weather=OrderedMapSerializedKey([('Temperature', 3.0999999046325684), ('temp_max', 3.880000114440918), ('temp_min', 1.7300000190734863)])),\n",
       " Row(city='La Portanière', weather=OrderedMapSerializedKey([('Temperature', 5.610000133514404), ('temp_max', 6.590000152587891), ('temp_min', 4.329999923706055)])),\n",
       " Row(city='Wittenheim', weather=OrderedMapSerializedKey([('Temperature', -0.2800000011920929), ('temp_max', 0.7699999809265137), ('temp_min', -1.100000023841858)])),\n",
       " Row(city='Arrondissement d Antony', weather=OrderedMapSerializedKey([('Temperature', 3.5999999046325684), ('temp_max', 4.400000095367432), ('temp_min', 2.259999990463257)])),\n",
       " Row(city='Vitré', weather=OrderedMapSerializedKey([('Temperature', 2.2799999713897705), ('temp_max', 2.75), ('temp_min', -0.28999999165534973)])),\n",
       " Row(city='Verrières-le-Buisson', weather=OrderedMapSerializedKey([('Temperature', 3.2699999809265137), ('temp_max', 4.119999885559082), ('temp_min', 1.9800000190734863)])),\n",
       " Row(city='Villeneuve-le-Roi', weather=OrderedMapSerializedKey([('Temperature', 3.680000066757202), ('temp_max', 4.5), ('temp_min', 2.359999895095825)]))]"
      ]
     },
     "execution_count": 56,
     "metadata": {},
     "output_type": "execute_result"
    }
   ],
   "source": [
    "rows=session.execute('Select * from weatherapi.weather;')\n",
    "df_results = rows._current_rows\n",
    "df_results"
   ]
  },
  {
   "cell_type": "code",
   "execution_count": 57,
   "metadata": {},
   "outputs": [
    {
     "data": {
      "text/html": [
       "<div>\n",
       "<style scoped>\n",
       "    .dataframe tbody tr th:only-of-type {\n",
       "        vertical-align: middle;\n",
       "    }\n",
       "\n",
       "    .dataframe tbody tr th {\n",
       "        vertical-align: top;\n",
       "    }\n",
       "\n",
       "    .dataframe thead th {\n",
       "        text-align: right;\n",
       "    }\n",
       "</style>\n",
       "<table border=\"1\" class=\"dataframe\">\n",
       "  <thead>\n",
       "    <tr style=\"text-align: right;\">\n",
       "      <th></th>\n",
       "      <th>city</th>\n",
       "      <th>Temperature</th>\n",
       "      <th>temp_max</th>\n",
       "      <th>temp_min</th>\n",
       "    </tr>\n",
       "  </thead>\n",
       "  <tbody>\n",
       "    <tr>\n",
       "      <th>0</th>\n",
       "      <td>Forville</td>\n",
       "      <td>-2.03</td>\n",
       "      <td>-0.69</td>\n",
       "      <td>-4.59</td>\n",
       "    </tr>\n",
       "    <tr>\n",
       "      <th>1</th>\n",
       "      <td>La Portanière</td>\n",
       "      <td>5.61</td>\n",
       "      <td>6.59</td>\n",
       "      <td>4.33</td>\n",
       "    </tr>\n",
       "    <tr>\n",
       "      <th>2</th>\n",
       "      <td>Wittenheim</td>\n",
       "      <td>-0.28</td>\n",
       "      <td>0.77</td>\n",
       "      <td>-1.10</td>\n",
       "    </tr>\n",
       "    <tr>\n",
       "      <th>3</th>\n",
       "      <td>Wattrelos</td>\n",
       "      <td>1.98</td>\n",
       "      <td>3.81</td>\n",
       "      <td>1.05</td>\n",
       "    </tr>\n",
       "    <tr>\n",
       "      <th>4</th>\n",
       "      <td>Vitré</td>\n",
       "      <td>2.28</td>\n",
       "      <td>2.75</td>\n",
       "      <td>-0.29</td>\n",
       "    </tr>\n",
       "    <tr>\n",
       "      <th>...</th>\n",
       "      <td>...</td>\n",
       "      <td>...</td>\n",
       "      <td>...</td>\n",
       "      <td>...</td>\n",
       "    </tr>\n",
       "    <tr>\n",
       "      <th>95</th>\n",
       "      <td>Saint-Trosse</td>\n",
       "      <td>4.20</td>\n",
       "      <td>7.41</td>\n",
       "      <td>1.68</td>\n",
       "    </tr>\n",
       "    <tr>\n",
       "      <th>96</th>\n",
       "      <td>Arrondissement de Périgueux</td>\n",
       "      <td>1.56</td>\n",
       "      <td>3.31</td>\n",
       "      <td>-0.17</td>\n",
       "    </tr>\n",
       "    <tr>\n",
       "      <th>97</th>\n",
       "      <td>Arrondissement de La Tour-du-Pin</td>\n",
       "      <td>1.42</td>\n",
       "      <td>2.39</td>\n",
       "      <td>0.64</td>\n",
       "    </tr>\n",
       "    <tr>\n",
       "      <th>98</th>\n",
       "      <td>Four</td>\n",
       "      <td>2.09</td>\n",
       "      <td>2.98</td>\n",
       "      <td>1.23</td>\n",
       "    </tr>\n",
       "    <tr>\n",
       "      <th>99</th>\n",
       "      <td>Corent</td>\n",
       "      <td>2.63</td>\n",
       "      <td>2.63</td>\n",
       "      <td>2.63</td>\n",
       "    </tr>\n",
       "  </tbody>\n",
       "</table>\n",
       "<p>100 rows × 4 columns</p>\n",
       "</div>"
      ],
      "text/plain": [
       "                                city  Temperature  temp_max  temp_min\n",
       "0                           Forville        -2.03     -0.69     -4.59\n",
       "1                      La Portanière         5.61      6.59      4.33\n",
       "2                         Wittenheim        -0.28      0.77     -1.10\n",
       "3                          Wattrelos         1.98      3.81      1.05\n",
       "4                              Vitré         2.28      2.75     -0.29\n",
       "..                               ...          ...       ...       ...\n",
       "95                      Saint-Trosse         4.20      7.41      1.68\n",
       "96       Arrondissement de Périgueux         1.56      3.31     -0.17\n",
       "97  Arrondissement de La Tour-du-Pin         1.42      2.39      0.64\n",
       "98                              Four         2.09      2.98      1.23\n",
       "99                            Corent         2.63      2.63      2.63\n",
       "\n",
       "[100 rows x 4 columns]"
      ]
     },
     "execution_count": 57,
     "metadata": {},
     "output_type": "execute_result"
    }
   ],
   "source": [
    "df_city = df.drop_duplicates(subset = ['city'])[['city']]\n",
    "df_city['city'] = df_city['city'].str.replace(\"'\",' ')\n",
    "df_city = df_city.head(10)\n",
    "df"
   ]
  },
  {
   "cell_type": "markdown",
   "metadata": {},
   "source": [
    "2 -Charger les données vers cassandra¶\n",
    "\n",
    "    * Insertion des données (city) vers Cassandra\n",
    "\n",
    "créer une requete d'inserioles temp de chaque city\n"
   ]
  },
  {
   "cell_type": "code",
   "execution_count": 59,
   "metadata": {},
   "outputs": [],
   "source": [
    "query_insert=\"INSERT INTO weatherapi.weather (city,weather) VALUES ({},{});\"\n",
    "#session.execute(\"insert into weather_frApp.weather_fr(city,weather) values ('Paris',{'temp_max': '90','temp_min': '90'});\")"
   ]
  },
  {
   "cell_type": "code",
   "execution_count": 60,
   "metadata": {},
   "outputs": [
    {
     "name": "stdout",
     "output_type": "stream",
     "text": [
      "INSERT INTO weatherapi.weather (city,weather) VALUES ('Forville',{'Temperature': -2.03, 'temp_max': -0.69, 'temp_min': -4.59});\n",
      "INSERT INTO weatherapi.weather (city,weather) VALUES ('La Portanière',{'Temperature': 5.61, 'temp_max': 6.59, 'temp_min': 4.33});\n",
      "INSERT INTO weatherapi.weather (city,weather) VALUES ('Wittenheim',{'Temperature': -0.28, 'temp_max': 0.77, 'temp_min': -1.1});\n",
      "INSERT INTO weatherapi.weather (city,weather) VALUES ('Wattrelos',{'Temperature': 1.98, 'temp_max': 3.81, 'temp_min': 1.05});\n",
      "INSERT INTO weatherapi.weather (city,weather) VALUES ('Vitré',{'Temperature': 2.28, 'temp_max': 2.75, 'temp_min': -0.29});\n",
      "INSERT INTO weatherapi.weather (city,weather) VALUES ('Viry-Châtillon',{'Temperature': 3.68, 'temp_max': 4.53, 'temp_min': 2.39});\n",
      "INSERT INTO weatherapi.weather (city,weather) VALUES ('Villeneuve-le-Roi',{'Temperature': 3.68, 'temp_max': 4.5, 'temp_min': 2.36});\n",
      "INSERT INTO weatherapi.weather (city,weather) VALUES ('Vierzon',{'Temperature': 3.1, 'temp_max': 3.88, 'temp_min': 1.73});\n",
      "INSERT INTO weatherapi.weather (city,weather) VALUES ('Verrières-le-Buisson',{'Temperature': 3.27, 'temp_max': 4.12, 'temp_min': 1.98});\n",
      "INSERT INTO weatherapi.weather (city,weather) VALUES ('Arrondissement d Antony',{'Temperature': 3.6, 'temp_max': 4.4, 'temp_min': 2.26});\n"
     ]
    }
   ],
   "source": [
    "for ct in df_city.index:\n",
    "        row_dict = {}\n",
    "        row_dict[\"Temperature\"] = df['Temperature'][ct]\n",
    "        row_dict[\"temp_max\"]    = df['temp_max'][ct]\n",
    "        row_dict[\"temp_min\"]    = df['temp_min'][ct]\n",
    "        CQL_query = query_insert.format(\"'\"+df_city['city'][ct]+\"'\",row_dict)\n",
    "        print(CQL_query)\n",
    "        session.execute(CQL_query)"
   ]
  },
  {
   "cell_type": "markdown",
   "metadata": {},
   "source": [
    "Tester l'insertion des données"
   ]
  },
  {
   "cell_type": "code",
   "execution_count": 61,
   "metadata": {},
   "outputs": [
    {
     "data": {
      "text/plain": [
       "[Row(city='Wattrelos', weather=OrderedMapSerializedKey([('Temperature', 1.9800000190734863), ('temp_max', 3.809999942779541), ('temp_min', 1.0499999523162842)])),\n",
       " Row(city='Forville', weather=OrderedMapSerializedKey([('Temperature', -2.0299999713897705), ('temp_max', -0.6899999976158142), ('temp_min', -4.590000152587891)])),\n",
       " Row(city='Viry-Châtillon', weather=OrderedMapSerializedKey([('Temperature', 3.680000066757202), ('temp_max', 4.53000020980835), ('temp_min', 2.390000104904175)])),\n",
       " Row(city='Vierzon', weather=OrderedMapSerializedKey([('Temperature', 3.0999999046325684), ('temp_max', 3.880000114440918), ('temp_min', 1.7300000190734863)])),\n",
       " Row(city='La Portanière', weather=OrderedMapSerializedKey([('Temperature', 5.610000133514404), ('temp_max', 6.590000152587891), ('temp_min', 4.329999923706055)])),\n",
       " Row(city='Wittenheim', weather=OrderedMapSerializedKey([('Temperature', -0.2800000011920929), ('temp_max', 0.7699999809265137), ('temp_min', -1.100000023841858)])),\n",
       " Row(city='Arrondissement d Antony', weather=OrderedMapSerializedKey([('Temperature', 3.5999999046325684), ('temp_max', 4.400000095367432), ('temp_min', 2.259999990463257)])),\n",
       " Row(city='Vitré', weather=OrderedMapSerializedKey([('Temperature', 2.2799999713897705), ('temp_max', 2.75), ('temp_min', -0.28999999165534973)])),\n",
       " Row(city='Verrières-le-Buisson', weather=OrderedMapSerializedKey([('Temperature', 3.2699999809265137), ('temp_max', 4.119999885559082), ('temp_min', 1.9800000190734863)])),\n",
       " Row(city='Villeneuve-le-Roi', weather=OrderedMapSerializedKey([('Temperature', 3.680000066757202), ('temp_max', 4.5), ('temp_min', 2.359999895095825)]))]"
      ]
     },
     "execution_count": 61,
     "metadata": {},
     "output_type": "execute_result"
    }
   ],
   "source": [
    "#Executer une requete pour tester\n",
    "rows = session.execute('SELECT * FROM weatherapi.weather')\n",
    "df_cities = rows._current_rows\n",
    "df_cities"
   ]
  },
  {
   "cell_type": "code",
   "execution_count": null,
   "metadata": {},
   "outputs": [],
   "source": []
  }
 ],
 "metadata": {
  "colab": {
   "name": "API OpenWeatherMap.ipynb",
   "provenance": []
  },
  "kernelspec": {
   "display_name": "Python 3 (ipykernel)",
   "language": "python",
   "name": "python3"
  },
  "language_info": {
   "codemirror_mode": {
    "name": "ipython",
    "version": 3
   },
   "file_extension": ".py",
   "mimetype": "text/x-python",
   "name": "python",
   "nbconvert_exporter": "python",
   "pygments_lexer": "ipython3",
   "version": "3.9.7"
  },
  "nbTranslate": {
   "displayLangs": [
    "*"
   ],
   "hotkey": "alt-t",
   "langInMainMenu": true,
   "sourceLang": "en",
   "targetLang": "fr",
   "useGoogleTranslate": true
  }
 },
 "nbformat": 4,
 "nbformat_minor": 1
}
